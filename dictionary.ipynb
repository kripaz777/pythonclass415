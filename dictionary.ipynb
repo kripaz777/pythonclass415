{
 "cells": [
  {
   "cell_type": "code",
   "execution_count": null,
   "id": "22616e59",
   "metadata": {},
   "outputs": [],
   "source": []
  },
  {
   "cell_type": "code",
   "execution_count": 1,
   "id": "2cd5fb91",
   "metadata": {},
   "outputs": [],
   "source": [
    "# Dictionary\n",
    "# -Indexed\n",
    "# -Multiple and duplicate value\n",
    "# -Ordered\n",
    "# -Mutable"
   ]
  },
  {
   "cell_type": "code",
   "execution_count": 2,
   "id": "97d2805b",
   "metadata": {},
   "outputs": [
    {
     "name": "stdout",
     "output_type": "stream",
     "text": [
      "{'a': 'Apple', 'b': 'Ball', 'c': 'Cat'}\n",
      "<class 'dict'>\n"
     ]
    }
   ],
   "source": [
    "# d = {<key>:<value>,<key>:<value>,...}\n",
    "d = {'a':'Apple','b':'Ball','c':'Cat'}\n",
    "print(d)\n",
    "print(type(d))"
   ]
  },
  {
   "cell_type": "code",
   "execution_count": 5,
   "id": "9eee7209",
   "metadata": {},
   "outputs": [
    {
     "name": "stdout",
     "output_type": "stream",
     "text": [
      "Ram\n",
      "10\n",
      "Nepal\n"
     ]
    }
   ],
   "source": [
    "info = {'name':'Ram','age':10,'add':'Nepal'}\n",
    "print(info['name'])\n",
    "print(info['age'])\n",
    "print(info['add'])"
   ]
  },
  {
   "cell_type": "code",
   "execution_count": 6,
   "id": "852f9965",
   "metadata": {},
   "outputs": [
    {
     "name": "stdout",
     "output_type": "stream",
     "text": [
      "{'a': 'Apple', 'b': 'Ball', 'c': 'Cat', 'A': 'Apple'}\n"
     ]
    }
   ],
   "source": [
    "d = {'a':'Apple','b':'Ball','c':'Cat','A':'Apple'}\n",
    "print(d)"
   ]
  },
  {
   "cell_type": "code",
   "execution_count": 7,
   "id": "66990e81",
   "metadata": {},
   "outputs": [
    {
     "name": "stdout",
     "output_type": "stream",
     "text": [
      "{'a': 'apple', 'b': 'Ball', 'c': 'Cat'}\n"
     ]
    }
   ],
   "source": [
    "d = {'a':'Apple','b':'Ball','c':'Cat','a':'apple'}\n",
    "print(d)"
   ]
  },
  {
   "cell_type": "code",
   "execution_count": 8,
   "id": "6fcd7665",
   "metadata": {},
   "outputs": [
    {
     "name": "stdout",
     "output_type": "stream",
     "text": [
      "{'a': 'Apple', 'b': 'Ball', 'c': 'Cat'}\n"
     ]
    }
   ],
   "source": [
    "# d = dict()\n",
    "d = {}\n",
    "d['a'] = 'Apple'\n",
    "d['b'] = 'Ball'\n",
    "d['c'] = 'Cat'\n",
    "print(d)"
   ]
  },
  {
   "cell_type": "code",
   "execution_count": 9,
   "id": "eb663e5f",
   "metadata": {},
   "outputs": [
    {
     "name": "stdout",
     "output_type": "stream",
     "text": [
      "Enter n = 2\n",
      "Enter name  = Ram\n",
      "Enter phone = 9808778765\n",
      "Enter name  = Shyam\n",
      "Enter phone = 9808667897\n",
      "{'Ram': 9808778765, 'Shyam': 9808667897}\n"
     ]
    }
   ],
   "source": [
    "info = {}\n",
    "n = int(input(\"Enter n = \"))\n",
    "for i in range(n):\n",
    "    name = input(\"Enter name  = \")\n",
    "    phone = int(input(\"Enter phone = \"))\n",
    "    info[name] = phone\n",
    "    \n",
    "print(info)"
   ]
  },
  {
   "cell_type": "code",
   "execution_count": 10,
   "id": "276a7a8c",
   "metadata": {},
   "outputs": [
    {
     "name": "stdout",
     "output_type": "stream",
     "text": [
      "Ram\n",
      "Shyam\n"
     ]
    }
   ],
   "source": [
    "a = {'Ram': 9808778765, 'Shyam': 9808667897}\n",
    "for i in a:\n",
    "    print(i)"
   ]
  },
  {
   "cell_type": "code",
   "execution_count": 11,
   "id": "752762d1",
   "metadata": {},
   "outputs": [
    {
     "name": "stdout",
     "output_type": "stream",
     "text": [
      "9808778765\n",
      "9808667897\n"
     ]
    }
   ],
   "source": [
    "a = {'Ram': 9808778765, 'Shyam': 9808667897}\n",
    "for i in a.values():\n",
    "    print(i)"
   ]
  },
  {
   "cell_type": "code",
   "execution_count": 13,
   "id": "23ba4a79",
   "metadata": {},
   "outputs": [
    {
     "name": "stdout",
     "output_type": "stream",
     "text": [
      "[('Ram', 9808778765), ('Shyam', 9808667897)]\n"
     ]
    }
   ],
   "source": [
    "l = []\n",
    "a = {'Ram': 9808778765, 'Shyam': 9808667897}\n",
    "for i in a.items():\n",
    "    l.append(i)\n",
    "    \n",
    "print(l)"
   ]
  },
  {
   "cell_type": "code",
   "execution_count": 14,
   "id": "35004b54",
   "metadata": {},
   "outputs": [
    {
     "data": {
      "text/plain": [
       "{'Ram': 9808778765, 'Shyam': 9808667897}"
      ]
     },
     "execution_count": 14,
     "metadata": {},
     "output_type": "execute_result"
    }
   ],
   "source": [
    "dict(l)"
   ]
  },
  {
   "cell_type": "code",
   "execution_count": null,
   "id": "908f9af8",
   "metadata": {},
   "outputs": [],
   "source": [
    "# No + *"
   ]
  },
  {
   "cell_type": "code",
   "execution_count": 15,
   "id": "23920fe3",
   "metadata": {},
   "outputs": [
    {
     "data": {
      "text/plain": [
       "{'Ram': 9808778765, 'Shyam': 9808667897, 'Hari': 9808667654}"
      ]
     },
     "execution_count": 15,
     "metadata": {},
     "output_type": "execute_result"
    }
   ],
   "source": [
    "d = {'Ram': 9808778765, 'Shyam': 9808667897}\n",
    "a = {'Hari':9808667654}\n",
    "d.update(a)\n",
    "d"
   ]
  },
  {
   "cell_type": "code",
   "execution_count": 17,
   "id": "41024f4d",
   "metadata": {},
   "outputs": [
    {
     "data": {
      "text/plain": [
       "{'Ram': 9808000000, 'Shyam': 9808667897, 'Hari': 9808667654}"
      ]
     },
     "execution_count": 17,
     "metadata": {},
     "output_type": "execute_result"
    }
   ],
   "source": [
    "a = {'Ram': 9808778765, 'Shyam': 9808667897, 'Hari': 9808667654}\n",
    "a['Ram'] = 9808000000\n",
    "a"
   ]
  },
  {
   "cell_type": "code",
   "execution_count": 18,
   "id": "d3786ecb",
   "metadata": {},
   "outputs": [
    {
     "name": "stdout",
     "output_type": "stream",
     "text": [
      "{'Ram': [9808778765, 9808667654], 'Shyam': [9808667897, 9808667654], 'Hari': [9808667654, 9808556765]}\n"
     ]
    }
   ],
   "source": [
    "# list inside dict\n",
    "a = {'Ram': [9808778765,9808667654], \n",
    "     'Shyam': [9808667897,9808667654], \n",
    "     'Hari': [9808667654,9808556765]}\n",
    "print(a)"
   ]
  },
  {
   "cell_type": "code",
   "execution_count": 19,
   "id": "cc947037",
   "metadata": {},
   "outputs": [
    {
     "name": "stdout",
     "output_type": "stream",
     "text": [
      "Enter n = 2\n",
      "Enter name = Ram\n",
      "Enter ntc no = 9867889765\n",
      "Enter ncell no = 9808667654\n",
      "Enter name = Shyam\n",
      "Enter ntc no = 9867009457\n",
      "Enter ncell no = 9808778654\n",
      "{'Ram': [9867889765, 9808667654], 'Shyam': [9867009457, 9808778654]}\n"
     ]
    }
   ],
   "source": [
    "info = {}\n",
    "n = int(input(\"Enter n = \"))\n",
    "for i in range(n):\n",
    "    name = input(\"Enter name = \")\n",
    "    ntc = int(input(\"Enter ntc no = \"))\n",
    "    ncell = int(input(\"Enter ncell no = \"))\n",
    "    info[name] = [ntc,ncell]\n",
    "    \n",
    "print(info)"
   ]
  },
  {
   "cell_type": "code",
   "execution_count": 21,
   "id": "6cf39ac5",
   "metadata": {},
   "outputs": [
    {
     "name": "stdout",
     "output_type": "stream",
     "text": [
      "Enter n = 1\n",
      "Enter name = Ram\n",
      "Enter age = 78\n",
      "Enter add = Kathmandu\n",
      "{'Name': ['Ram'], 'Age': [78], 'Add': ['Kathmandu']}\n"
     ]
    }
   ],
   "source": [
    "# data = {'Name':['Ram','Shyam','Hari'],\n",
    "#        'Age':[45,32,45],\n",
    "#        'Add':['Kathmandu','Bhaktapur','Lalitpur']}\n",
    "\n",
    "info = {'Name':[],'Age':[],'Add':[]}\n",
    "\n",
    "n = int(input(\"Enter n = \"))\n",
    "for i in range(n):\n",
    "    name = input(\"Enter name = \")\n",
    "    age = int(input(\"Enter age = \"))\n",
    "    add = input(\"Enter add = \")\n",
    "    info['Name'].append(name)\n",
    "    info['Add'].append(add)\n",
    "    info['Age'].append(age)\n",
    "    \n",
    "print(info)"
   ]
  },
  {
   "cell_type": "code",
   "execution_count": 22,
   "id": "e0addf45",
   "metadata": {},
   "outputs": [
    {
     "data": {
      "text/plain": [
       "{'Name': ['Ram', 'Shyam'], 'Age': [78, 34], 'Add': ['Kathmandu', 'Bhaktapur']}"
      ]
     },
     "execution_count": 22,
     "metadata": {},
     "output_type": "execute_result"
    }
   ],
   "source": [
    "a = {'Name': ['Ram'], 'Age': [78], 'Add': ['Kathmandu']}\n",
    "a['Name'].append('Shyam')\n",
    "a['Age'].append(34)\n",
    "a['Add'].append('Bhaktapur')\n",
    "a"
   ]
  },
  {
   "cell_type": "code",
   "execution_count": 23,
   "id": "0e9cbe79",
   "metadata": {},
   "outputs": [
    {
     "data": {
      "text/plain": [
       "{'Name': ['Ram', 'Shyam'], 'Age': [78, 34]}"
      ]
     },
     "execution_count": 23,
     "metadata": {},
     "output_type": "execute_result"
    }
   ],
   "source": [
    "# del pop()\n",
    "d = {'Name': ['Ram', 'Shyam'], 'Age': [78, 34], 'Add': ['Kathmandu', 'Bhaktapur']}\n",
    "del d['Add']\n",
    "d"
   ]
  },
  {
   "cell_type": "code",
   "execution_count": 24,
   "id": "9db7650c",
   "metadata": {},
   "outputs": [
    {
     "data": {
      "text/plain": [
       "{'Name': ['Shyam'], 'Age': [34], 'Add': ['Bhaktapur']}"
      ]
     },
     "execution_count": 24,
     "metadata": {},
     "output_type": "execute_result"
    }
   ],
   "source": [
    "d = {'Name': ['Ram', 'Shyam'], 'Age': [78, 34], 'Add': ['Kathmandu', 'Bhaktapur']}\n",
    "\n",
    "del d['Name'][0]\n",
    "del d['Age'][0]\n",
    "del d['Add'][0]\n",
    "d"
   ]
  },
  {
   "cell_type": "code",
   "execution_count": null,
   "id": "4298f162",
   "metadata": {},
   "outputs": [],
   "source": []
  },
  {
   "cell_type": "code",
   "execution_count": 28,
   "id": "07a6396f",
   "metadata": {},
   "outputs": [
    {
     "data": {
      "text/plain": [
       "{'Name': ['Ram', 'Shyam'], 'Age': [78, 34], 'Add': ['Jhapa', 'Bhaktapur']}"
      ]
     },
     "execution_count": 28,
     "metadata": {},
     "output_type": "execute_result"
    }
   ],
   "source": [
    "d = {'Name': ['Ram', 'Shyam'], 'Age': [78, 34], 'Add': ['Kathmandu', 'Bhaktapur']}\n",
    "d['Add'][0] = \"Jhapa\"\n",
    "d"
   ]
  },
  {
   "cell_type": "code",
   "execution_count": 1,
   "id": "613b9d6b",
   "metadata": {},
   "outputs": [],
   "source": [
    "# # dict inside list\n",
    "# l = [{'name':'Ram','age':23,'add':'Kathmandu'},\n",
    "#     {'name':'Shyam','age':34,'add':'Kathmandu'},\n",
    "#     {'name':'Hari','age':21,'add':'Jhapa'}]\n"
   ]
  },
  {
   "cell_type": "code",
   "execution_count": 2,
   "id": "484ed19b",
   "metadata": {},
   "outputs": [
    {
     "name": "stdout",
     "output_type": "stream",
     "text": [
      "Enter n = 2\n",
      "Enter name = Ram\n",
      "Enter age = 78\n",
      "Enter address = Kathmandu\n",
      "Enter name = Shyam\n",
      "Enter age = 89\n",
      "Enter address = Bara\n",
      "[{'name': 'Ram', 'age': 78, 'add': 'Kathmandu'}, {'name': 'Shyam', 'age': 89, 'add': 'Bara'}]\n"
     ]
    }
   ],
   "source": [
    "data = []\n",
    "n = int(input(\"Enter n = \"))\n",
    "for i in range(n):\n",
    "    name = input(\"Enter name = \")\n",
    "    age = int(input(\"Enter age = \"))\n",
    "    add = input(\"Enter address = \")\n",
    "    info = {'name':name,'age':age,'add':add}\n",
    "    data.append(info)\n",
    "    \n",
    "print(data)"
   ]
  },
  {
   "cell_type": "code",
   "execution_count": 6,
   "id": "fde5e48d",
   "metadata": {},
   "outputs": [
    {
     "data": {
      "text/plain": [
       "[{'name': 'Rama', 'age': 78, 'add': 'Kathmandu'},\n",
       " {'name': 'Shyam', 'age': 89, 'add': 'Bara'}]"
      ]
     },
     "execution_count": 6,
     "metadata": {},
     "output_type": "execute_result"
    }
   ],
   "source": [
    "data[0]['name'] = 'Rama'\n",
    "data"
   ]
  },
  {
   "cell_type": "code",
   "execution_count": 7,
   "id": "c5f7924a",
   "metadata": {},
   "outputs": [],
   "source": [
    "# dict inside dict\n",
    "# info = {1:{'name': 'Rama', 'age': 78, 'add': 'Kathmandu'},\n",
    "#        2:{'name': 'Shyam', 'age': 89, 'add': 'Bara'}}"
   ]
  },
  {
   "cell_type": "code",
   "execution_count": 8,
   "id": "f10fdae7",
   "metadata": {},
   "outputs": [
    {
     "name": "stdout",
     "output_type": "stream",
     "text": [
      "Enter n = 2\n",
      "Enter name = Ram\n",
      "Enter age = 78\n",
      "Enter address = Kathmandu\n",
      "Enter name = Shyam\n",
      "Enter age = 56\n",
      "Enter address = Balaju\n",
      "{1: {'name': 'Ram', 'age': 78, 'add': 'Kathmandu'}, 2: {'name': 'Shyam', 'age': 56, 'add': 'Balaju'}}\n"
     ]
    }
   ],
   "source": [
    "data = {}\n",
    "n = int(input(\"Enter n = \"))\n",
    "for i in range(1,n+1):\n",
    "    name = input(\"Enter name = \")\n",
    "    age = int(input(\"Enter age = \"))\n",
    "    add = input(\"Enter address = \")\n",
    "    info = {'name':name,'age':age,'add':add}\n",
    "    data[i] = info \n",
    "    \n",
    "print(data)"
   ]
  },
  {
   "cell_type": "code",
   "execution_count": 9,
   "id": "c946b94a",
   "metadata": {},
   "outputs": [
    {
     "data": {
      "text/plain": [
       "{1: {'name': 'Ram', 'age': 78, 'add': 'Kathmandu'},\n",
       " 2: {'name': 'Shyam', 'age': 56, 'add': 'Balaju'},\n",
       " 3: {'name': 'Nabin', 'age': 78, 'add': 'Chitwan'}}"
      ]
     },
     "execution_count": 9,
     "metadata": {},
     "output_type": "execute_result"
    }
   ],
   "source": [
    "data[3] = {'name': 'Nabin', 'age': 78, 'add': 'Chitwan'}\n",
    "data"
   ]
  },
  {
   "cell_type": "code",
   "execution_count": 12,
   "id": "091dc164",
   "metadata": {},
   "outputs": [
    {
     "data": {
      "text/plain": [
       "{1: {'name': 'Ram', 'age': 78, 'add': 'Kathmandu'},\n",
       " 2: {'name': 'Shyam', 'age': 56, 'add': 'Balaju'},\n",
       " 3: {'name': 'Nabin', 'age': 22, 'add': 'Chitwan'}}"
      ]
     },
     "execution_count": 12,
     "metadata": {},
     "output_type": "execute_result"
    }
   ],
   "source": [
    "data[3]['age'] = 22\n",
    "data"
   ]
  },
  {
   "cell_type": "code",
   "execution_count": null,
   "id": "d92630d7",
   "metadata": {},
   "outputs": [],
   "source": [
    "data = {1: {'name': 'Ram', 'age': 78, 'add': {'per':'Jhapa','temp':'Kathmandu'}}, \n",
    "        2: {'name': 'Shyam', 'age': 56, 'add': {'per':'Jhapa','temp':'Kathmandu'}}}\n"
   ]
  },
  {
   "cell_type": "code",
   "execution_count": 13,
   "id": "91216e58",
   "metadata": {},
   "outputs": [
    {
     "data": {
      "text/plain": [
       "{'Ram': [9808668654, 986789876], 'Shyam': [9808667654, 9808667654]}"
      ]
     },
     "execution_count": 13,
     "metadata": {},
     "output_type": "execute_result"
    }
   ],
   "source": [
    "d = {'Ram':[9808668654,986789876],\n",
    "    'Shyam':[9808667654,9808667654]}\n",
    "d"
   ]
  },
  {
   "cell_type": "code",
   "execution_count": 14,
   "id": "9f3ee350",
   "metadata": {},
   "outputs": [
    {
     "ename": "TypeError",
     "evalue": "unhashable type: 'list'",
     "output_type": "error",
     "traceback": [
      "\u001b[1;31m---------------------------------------------------------------------------\u001b[0m",
      "\u001b[1;31mTypeError\u001b[0m                                 Traceback (most recent call last)",
      "Input \u001b[1;32mIn [14]\u001b[0m, in \u001b[0;36m<cell line: 1>\u001b[1;34m()\u001b[0m\n\u001b[1;32m----> 1\u001b[0m d \u001b[38;5;241m=\u001b[39m {[\u001b[38;5;124m'\u001b[39m\u001b[38;5;124mRam\u001b[39m\u001b[38;5;124m'\u001b[39m,\u001b[38;5;124m'\u001b[39m\u001b[38;5;124mShyam\u001b[39m\u001b[38;5;124m'\u001b[39m]:\u001b[38;5;241m98086678765\u001b[39m,\n\u001b[0;32m      2\u001b[0m     [\u001b[38;5;124m'\u001b[39m\u001b[38;5;124mHari\u001b[39m\u001b[38;5;124m'\u001b[39m,\u001b[38;5;124m'\u001b[39m\u001b[38;5;124mSita\u001b[39m\u001b[38;5;124m'\u001b[39m]:\u001b[38;5;241m9808778865\u001b[39m}\n\u001b[0;32m      3\u001b[0m d\n",
      "\u001b[1;31mTypeError\u001b[0m: unhashable type: 'list'"
     ]
    }
   ],
   "source": [
    "d = {['Ram','Shyam']:98086678765,\n",
    "    ['Hari','Sita']:9808778865}\n",
    "d"
   ]
  },
  {
   "cell_type": "code",
   "execution_count": 15,
   "id": "aae791f9",
   "metadata": {},
   "outputs": [
    {
     "data": {
      "text/plain": [
       "{('Ram', 'Shyam'): 98086678765, ('Hari', 'Sita'): 9808778865}"
      ]
     },
     "execution_count": 15,
     "metadata": {},
     "output_type": "execute_result"
    }
   ],
   "source": [
    "d = {('Ram','Shyam'):98086678765,\n",
    "    ('Hari','Sita'):9808778865}\n",
    "d"
   ]
  },
  {
   "cell_type": "code",
   "execution_count": 17,
   "id": "4676554f",
   "metadata": {},
   "outputs": [
    {
     "data": {
      "text/plain": [
       "98086678765"
      ]
     },
     "execution_count": 17,
     "metadata": {},
     "output_type": "execute_result"
    }
   ],
   "source": [
    "d[('Ram','Shyam')]"
   ]
  },
  {
   "cell_type": "code",
   "execution_count": null,
   "id": "735ec944",
   "metadata": {},
   "outputs": [],
   "source": []
  }
 ],
 "metadata": {
  "kernelspec": {
   "display_name": "Python 3 (ipykernel)",
   "language": "python",
   "name": "python3"
  },
  "language_info": {
   "codemirror_mode": {
    "name": "ipython",
    "version": 3
   },
   "file_extension": ".py",
   "mimetype": "text/x-python",
   "name": "python",
   "nbconvert_exporter": "python",
   "pygments_lexer": "ipython3",
   "version": "3.9.12"
  }
 },
 "nbformat": 4,
 "nbformat_minor": 5
}
