{
 "cells": [
  {
   "cell_type": "code",
   "execution_count": 1,
   "id": "0a9e978c",
   "metadata": {},
   "outputs": [],
   "source": [
    "# b = open('<file name>','<mode>')\n",
    "# b.close()\n",
    "\n",
    "\n",
    "# with open('<file_name>','<mode>') as f:\n",
    "#     <operations>\n",
    "\n",
    "modes\n",
    "r -> read\n",
    "x -> create\n",
    "w -> write\n",
    "a -> append"
   ]
  },
  {
   "cell_type": "code",
   "execution_count": 4,
   "id": "52951f47",
   "metadata": {},
   "outputs": [
    {
     "name": "stdout",
     "output_type": "stream",
     "text": [
      "The file is already there\n"
     ]
    }
   ],
   "source": [
    "try:\n",
    "    b = open('data.txt','x')\n",
    "    b.close()\n",
    "except:\n",
    "    print(\"The file is already there\")"
   ]
  },
  {
   "cell_type": "code",
   "execution_count": 6,
   "id": "327fbeb8",
   "metadata": {},
   "outputs": [
    {
     "name": "stdout",
     "output_type": "stream",
     "text": [
      "1.Hello World\n",
      "2.Hello World\n",
      "3.Hello World\n",
      "4.Hello World\n",
      "5.Hello World\n",
      "6.Hello World\n",
      "7.Hello World\n",
      "<class 'str'>\n"
     ]
    }
   ],
   "source": [
    "file = open('data.txt','r')\n",
    "x = file.read()\n",
    "print(x)\n",
    "print(type(x))\n",
    "file.close()"
   ]
  },
  {
   "cell_type": "code",
   "execution_count": 9,
   "id": "80b5e591",
   "metadata": {},
   "outputs": [
    {
     "name": "stdout",
     "output_type": "stream",
     "text": [
      "Enter line no = 1\n",
      "1.Hello World\n"
     ]
    }
   ],
   "source": [
    "data= x.split('\\n')\n",
    "line_no = int(input(\"Enter line no = \"))\n",
    "print(data[line_no-1])"
   ]
  },
  {
   "cell_type": "code",
   "execution_count": 10,
   "id": "b268aa00",
   "metadata": {},
   "outputs": [
    {
     "name": "stdout",
     "output_type": "stream",
     "text": [
      "1.Hello World\n",
      "\n",
      "<class 'str'>\n"
     ]
    }
   ],
   "source": [
    "file = open('data.txt','r')\n",
    "x = file.readline()\n",
    "print(x)\n",
    "print(type(x))\n",
    "file.close()"
   ]
  },
  {
   "cell_type": "code",
   "execution_count": 11,
   "id": "1eeb1023",
   "metadata": {},
   "outputs": [
    {
     "name": "stdout",
     "output_type": "stream",
     "text": [
      "1.Hello World\n",
      "2.Hell\n",
      "<class 'str'>\n"
     ]
    }
   ],
   "source": [
    "file = open('data.txt','r')\n",
    "x = file.read(20)\n",
    "print(x)\n",
    "print(type(x))\n",
    "file.close()"
   ]
  },
  {
   "cell_type": "code",
   "execution_count": 12,
   "id": "63e2f7ce",
   "metadata": {},
   "outputs": [],
   "source": [
    "file = open('data.txt','w')\n",
    "file.write('Hello World')\n",
    "file.close()"
   ]
  },
  {
   "cell_type": "code",
   "execution_count": 14,
   "id": "8abfee17",
   "metadata": {},
   "outputs": [
    {
     "name": "stdout",
     "output_type": "stream",
     "text": [
      "Enter n = 2\n",
      "Enter name = Appl\n",
      "Enter price = 200\n",
      "Enter quantity = 3\n",
      "Enter name = Banana\n",
      "Enter price = 100\n",
      "Enter quantity = 2\n",
      "all total =  800\n",
      "Appl 200 3 600\n",
      "Banana 100 2 200\n",
      "\n"
     ]
    }
   ],
   "source": [
    "s = 0\n",
    "bill = str()\n",
    "n = int(input(\"Enter n = \"))\n",
    "for i in range(n):\n",
    "    name = input(\"Enter name = \")\n",
    "    price = int(input(\"Enter price = \"))\n",
    "    quantity = int(input(\"Enter quantity = \"))\n",
    "    total=price*quantity\n",
    "    bill = bill + f\"{name} {price} {quantity} {total}\\n\"\n",
    "    s = s+total\n",
    "    \n",
    "print(\"all total = \",s)\n",
    "print(bill)\n",
    "\n",
    "file = open('bill.txt','w')\n",
    "file.write(bill)\n",
    "file.close()"
   ]
  },
  {
   "cell_type": "code",
   "execution_count": 15,
   "id": "6513ca08",
   "metadata": {},
   "outputs": [
    {
     "data": {
      "text/plain": [
       "'C:\\\\Users\\\\Aayush\\\\Python430'"
      ]
     },
     "execution_count": 15,
     "metadata": {},
     "output_type": "execute_result"
    }
   ],
   "source": [
    "pwd"
   ]
  },
  {
   "cell_type": "code",
   "execution_count": 17,
   "id": "34392f09",
   "metadata": {},
   "outputs": [
    {
     "name": "stdout",
     "output_type": "stream",
     "text": [
      "Enter n = 2\n",
      "Enter name = Apple\n",
      "Enter price = 200\n",
      "Enter quantity = 2\n",
      "Enter name = Banana\n",
      "Enter price = 100\n",
      "Enter quantity = 3\n",
      "all total =  700\n",
      "Apple,200,2,400\n",
      "Banana,100,3,300\n",
      "\n"
     ]
    }
   ],
   "source": [
    "s = 0\n",
    "bill = str()\n",
    "n = int(input(\"Enter n = \"))\n",
    "for i in range(n):\n",
    "    name = input(\"Enter name = \")\n",
    "    price = int(input(\"Enter price = \"))\n",
    "    quantity = int(input(\"Enter quantity = \"))\n",
    "    total=price*quantity\n",
    "    bill = bill + f\"{name},{price},{quantity},{total}\\n\"\n",
    "    s = s+total\n",
    "    \n",
    "print(\"all total = \",s)\n",
    "print(bill)\n",
    "\n",
    "file = open('bill.csv','w')\n",
    "file.write('Name,Price,quantity,Total\\n')\n",
    "file.write(bill)\n",
    "file.close()"
   ]
  },
  {
   "cell_type": "code",
   "execution_count": null,
   "id": "b83898f2",
   "metadata": {},
   "outputs": [],
   "source": []
  }
 ],
 "metadata": {
  "kernelspec": {
   "display_name": "Python 3 (ipykernel)",
   "language": "python",
   "name": "python3"
  },
  "language_info": {
   "codemirror_mode": {
    "name": "ipython",
    "version": 3
   },
   "file_extension": ".py",
   "mimetype": "text/x-python",
   "name": "python",
   "nbconvert_exporter": "python",
   "pygments_lexer": "ipython3",
   "version": "3.9.12"
  }
 },
 "nbformat": 4,
 "nbformat_minor": 5
}
