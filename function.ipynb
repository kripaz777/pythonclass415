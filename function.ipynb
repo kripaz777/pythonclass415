{
 "cells": [
  {
   "cell_type": "code",
   "execution_count": 1,
   "id": "24f48964",
   "metadata": {},
   "outputs": [],
   "source": [
    "# pre defined function\n",
    "# user defined function"
   ]
  },
  {
   "cell_type": "code",
   "execution_count": 2,
   "id": "27e320a4",
   "metadata": {},
   "outputs": [],
   "source": [
    "# pre defined function\n",
    "# print() type() int() str() float() bool()\n",
    "# input()"
   ]
  },
  {
   "cell_type": "code",
   "execution_count": 4,
   "id": "a6e37f16",
   "metadata": {},
   "outputs": [],
   "source": [
    "# # user defined function\n",
    "# def <function_name>():\n",
    "#     <operations>\n",
    "    \n",
    "# function_name()"
   ]
  },
  {
   "cell_type": "code",
   "execution_count": null,
   "id": "d9beb101",
   "metadata": {},
   "outputs": [],
   "source": [
    "a = 10\n"
   ]
  },
  {
   "cell_type": "code",
   "execution_count": 8,
   "id": "8201e98c",
   "metadata": {},
   "outputs": [
    {
     "name": "stdout",
     "output_type": "stream",
     "text": [
      "Hello World\n",
      "Hello World\n"
     ]
    }
   ],
   "source": [
    "def hello():\n",
    "    print(\"Hello World\")\n",
    "    \n",
    "    \n",
    "hello()\n",
    "hello()"
   ]
  },
  {
   "cell_type": "code",
   "execution_count": 9,
   "id": "3536653e",
   "metadata": {},
   "outputs": [
    {
     "name": "stdout",
     "output_type": "stream",
     "text": [
      "Enter l = 12\n",
      "Enter b = 34\n",
      "408\n"
     ]
    }
   ],
   "source": [
    "def cal():\n",
    "    l = int(input(\"Enter l = \")) #local variable\n",
    "    b = int(input(\"Enter b = \")) #local variable\n",
    "    a = l*b\n",
    "    print(a)\n",
    "    \n",
    "cal()"
   ]
  },
  {
   "cell_type": "code",
   "execution_count": null,
   "id": "9ec19c8e",
   "metadata": {},
   "outputs": [],
   "source": [
    "def cal():\n",
    "    a = l*b\n",
    "    print(a)\n",
    "    \n",
    "l = int(input(\"Enter l = \")) #global variable\n",
    "b = int(input(\"Enter b = \")) #global variable \n",
    "cal()"
   ]
  },
  {
   "cell_type": "code",
   "execution_count": 1,
   "id": "a84ab177",
   "metadata": {},
   "outputs": [],
   "source": [
    "# argument return type\n",
    "# function without argument and no return type\n",
    "# function with argument and no return type\n",
    "# function without argument and return type\n",
    "# function with argument and return type\n"
   ]
  },
  {
   "cell_type": "code",
   "execution_count": null,
   "id": "28e435b4",
   "metadata": {},
   "outputs": [],
   "source": [
    "#function without argument and no return type\n",
    "def cal():\n",
    "    a = l*b\n",
    "    print(a)\n",
    "    \n",
    "l = int(input(\"Enter l = \")) #global variable\n",
    "b = int(input(\"Enter b = \")) #global variable \n",
    "cal()"
   ]
  },
  {
   "cell_type": "code",
   "execution_count": null,
   "id": "cb930158",
   "metadata": {},
   "outputs": [],
   "source": [
    "#function with argument and no return type\n",
    "def cal(l,b):    #parameter\n",
    "    a = l*b\n",
    "    print(a)\n",
    "    \n",
    "l = int(input(\"Enter l = \")) #global variable\n",
    "b = int(input(\"Enter b = \")) #global variable \n",
    "cal(l,b)   #argument"
   ]
  },
  {
   "cell_type": "code",
   "execution_count": null,
   "id": "9cfeff61",
   "metadata": {},
   "outputs": [],
   "source": [
    "#function with argument and no return type\n",
    "def cal(x,y):    #parameter\n",
    "    a = x*y\n",
    "    print(a)\n",
    "    \n",
    "l = int(input(\"Enter l = \")) #global variable\n",
    "b = int(input(\"Enter b = \")) #global variable \n",
    "cal(l,b)   #argument"
   ]
  },
  {
   "cell_type": "code",
   "execution_count": null,
   "id": "7346c821",
   "metadata": {},
   "outputs": [],
   "source": [
    "#function with argument and no return type\n",
    "def area(x,y):    #parameter\n",
    "    a = x*y\n",
    "    print(a)\n",
    "    \n",
    "def volume(x,y,z):\n",
    "    v = x*y*z\n",
    "    print(v)\n",
    "    \n",
    "l = int(input(\"Enter l = \")) #global variable\n",
    "b = int(input(\"Enter b = \")) #global variable\n",
    "h = int(input(\"Enter h = \")) #global variable\n",
    "area(l,b)   #argument\n",
    "volume(l,b,h)"
   ]
  },
  {
   "cell_type": "code",
   "execution_count": 2,
   "id": "98510da2",
   "metadata": {},
   "outputs": [
    {
     "name": "stdout",
     "output_type": "stream",
     "text": [
      "C\n",
      "C++\n",
      "Python\n",
      "Python\n"
     ]
    }
   ],
   "source": [
    "def language(lan = \"Python\"):\n",
    "    print(lan)\n",
    "    \n",
    "language(\"C\")\n",
    "language(\"C++\")\n",
    "language(\"Python\")\n",
    "language()"
   ]
  },
  {
   "cell_type": "code",
   "execution_count": 3,
   "id": "8f59b406",
   "metadata": {},
   "outputs": [
    {
     "name": "stdout",
     "output_type": "stream",
     "text": [
      "45 18\n",
      "unknown 18\n"
     ]
    }
   ],
   "source": [
    "def info(name = \"unknown\",age = 18):\n",
    "    print(name,age)\n",
    "    \n",
    "info(45)\n",
    "info()"
   ]
  },
  {
   "cell_type": "code",
   "execution_count": 6,
   "id": "f8819c7e",
   "metadata": {},
   "outputs": [
    {
     "name": "stdout",
     "output_type": "stream",
     "text": [
      "Hello\n"
     ]
    }
   ],
   "source": [
    "# Return type function\n",
    "def hello():\n",
    "    return \"Hello\"\n",
    "    \n",
    "x = hello()\n",
    "print(x)"
   ]
  },
  {
   "cell_type": "code",
   "execution_count": 7,
   "id": "4f1bcb19",
   "metadata": {},
   "outputs": [
    {
     "name": "stdout",
     "output_type": "stream",
     "text": [
      "HelloWorld\n"
     ]
    }
   ],
   "source": [
    "# Return type function\n",
    "def hello():\n",
    "    return \"Hello\"\n",
    "    \n",
    "x = hello()\n",
    "\n",
    "print(x+\"World\")"
   ]
  },
  {
   "cell_type": "code",
   "execution_count": 8,
   "id": "5ee0e99d",
   "metadata": {},
   "outputs": [
    {
     "name": "stdout",
     "output_type": "stream",
     "text": [
      "Enter l = 100\n",
      "Enter b = 50\n",
      "Enter h = 25\n",
      "Volume =  125000\n"
     ]
    }
   ],
   "source": [
    "# function with argument and return type\n",
    "\n",
    "def area(x,y):\n",
    "    a = x*y\n",
    "    return a\n",
    "\n",
    "l = int(input(\"Enter l = \"))\n",
    "b = int(input(\"Enter b = \"))\n",
    "h = int(input(\"Enter h = \"))\n",
    "\n",
    "ar = area(l,b)\n",
    "v = ar*h\n",
    "print(\"Volume = \",v)"
   ]
  },
  {
   "cell_type": "code",
   "execution_count": 9,
   "id": "70b66c82",
   "metadata": {},
   "outputs": [
    {
     "name": "stdout",
     "output_type": "stream",
     "text": [
      "Enter l = 100\n",
      "Enter b = 50\n",
      "Enter h = 25\n",
      "Volume =  125000\n"
     ]
    }
   ],
   "source": [
    "def area(x,y):\n",
    "    a = x*y\n",
    "    return a\n",
    "\n",
    "def volume(x,y,z):\n",
    "    ar = area(l,b)\n",
    "    v = ar*h\n",
    "    return v\n",
    "    \n",
    "    \n",
    "l = int(input(\"Enter l = \"))\n",
    "b = int(input(\"Enter b = \"))\n",
    "h = int(input(\"Enter h = \"))\n",
    "\n",
    "vo = volume(l,b,h)\n",
    "ar = area(l,b)\n",
    "print(\"Volume = \",vo)"
   ]
  },
  {
   "cell_type": "code",
   "execution_count": 10,
   "id": "277d17e7",
   "metadata": {},
   "outputs": [
    {
     "name": "stdout",
     "output_type": "stream",
     "text": [
      "Enter l = 100\n",
      "Enter b = 23\n",
      "Enter h = 3\n",
      "(2300, 6900)\n"
     ]
    }
   ],
   "source": [
    "# function with argument and return type\n",
    "\n",
    "def cal(x,y,z):\n",
    "    a = x*y\n",
    "    v = a*z\n",
    "    return a,v\n",
    "\n",
    "l = int(input(\"Enter l = \"))\n",
    "b = int(input(\"Enter b = \"))\n",
    "h = int(input(\"Enter h = \"))\n",
    "\n",
    "av = cal(l,b,h)\n",
    "\n",
    "print(av)"
   ]
  },
  {
   "cell_type": "code",
   "execution_count": 12,
   "id": "8809ac80",
   "metadata": {},
   "outputs": [
    {
     "name": "stdout",
     "output_type": "stream",
     "text": [
      "2300 6900\n"
     ]
    }
   ],
   "source": [
    "area,volume = av\n",
    "print(area,volume)"
   ]
  },
  {
   "cell_type": "code",
   "execution_count": 13,
   "id": "8ff811ec",
   "metadata": {},
   "outputs": [
    {
     "name": "stdout",
     "output_type": "stream",
     "text": [
      "(10, 20, 30)\n"
     ]
    }
   ],
   "source": [
    "a = 10,20,30\n",
    "print(a)"
   ]
  },
  {
   "cell_type": "code",
   "execution_count": null,
   "id": "f6f6c7d8",
   "metadata": {},
   "outputs": [],
   "source": [
    "def hello():\n",
    "    print(\"Hello\")\n",
    "    hello()\n",
    "    \n",
    "hello()"
   ]
  },
  {
   "cell_type": "code",
   "execution_count": 1,
   "id": "f8cefb08",
   "metadata": {},
   "outputs": [
    {
     "name": "stdout",
     "output_type": "stream",
     "text": [
      "Enter p = 1000\n",
      "Enter t = 2.5\n",
      "Enter r = 4.6\n",
      "115.0\n",
      "Press Enter for more cal\n",
      "Enter p = 4000\n",
      "Enter t = 2.5\n",
      "Enter r = 6\n",
      "600.0\n",
      "Press Enter for more calasd\n"
     ]
    }
   ],
   "source": [
    "def cal():\n",
    "    p = int(input(\"Enter p = \"))\n",
    "    t = float(input(\"Enter t = \"))\n",
    "    r = float(input(\"Enter r = \"))\n",
    "    i = p*t*r/100\n",
    "    print(i)\n",
    "    x = input(\"Press Enter for more cal\")\n",
    "    if x == \"\":\n",
    "        cal()\n",
    "        \n",
    "cal()"
   ]
  },
  {
   "cell_type": "code",
   "execution_count": null,
   "id": "feab4715",
   "metadata": {
    "scrolled": true
   },
   "outputs": [],
   "source": [
    "# math function"
   ]
  },
  {
   "cell_type": "code",
   "execution_count": null,
   "id": "6e3dac29",
   "metadata": {},
   "outputs": [],
   "source": []
  }
 ],
 "metadata": {
  "kernelspec": {
   "display_name": "Python 3 (ipykernel)",
   "language": "python",
   "name": "python3"
  },
  "language_info": {
   "codemirror_mode": {
    "name": "ipython",
    "version": 3
   },
   "file_extension": ".py",
   "mimetype": "text/x-python",
   "name": "python",
   "nbconvert_exporter": "python",
   "pygments_lexer": "ipython3",
   "version": "3.9.12"
  }
 },
 "nbformat": 4,
 "nbformat_minor": 5
}
