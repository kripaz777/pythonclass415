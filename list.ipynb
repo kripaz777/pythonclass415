{
 "cells": [
  {
   "cell_type": "code",
   "execution_count": 1,
   "id": "b7683e51",
   "metadata": {},
   "outputs": [],
   "source": [
    "# # python collection\n",
    "# list\n",
    "# tuple\n",
    "# dict\n",
    "# set"
   ]
  },
  {
   "cell_type": "code",
   "execution_count": 2,
   "id": "6a59e895",
   "metadata": {},
   "outputs": [],
   "source": [
    "# list\n",
    "# -indexing\n",
    "# -ordered\n",
    "# -Multiple and duplicate value\n",
    "# -mutable"
   ]
  },
  {
   "cell_type": "code",
   "execution_count": 4,
   "id": "bce0886e",
   "metadata": {},
   "outputs": [
    {
     "name": "stdout",
     "output_type": "stream",
     "text": [
      "<class 'list'>\n",
      "<class 'list'>\n",
      "['Apple', 'Ball', 'Cat']\n",
      "[1, 2, 3, 4, 5, 6, 7, 8, 9]\n"
     ]
    }
   ],
   "source": [
    "a = [\"Apple\",\"Ball\",\"Cat\"]\n",
    "b = [1,2,3,4,5,6,7,8,9,9]\n",
    "print(type(a))\n",
    "print(type(b))\n",
    "print(a)\n",
    "print(b)"
   ]
  },
  {
   "cell_type": "code",
   "execution_count": 7,
   "id": "b45a96d0",
   "metadata": {},
   "outputs": [
    {
     "name": "stdout",
     "output_type": "stream",
     "text": [
      "Cat\n"
     ]
    }
   ],
   "source": [
    "a = [\"Apple\",\"Ball\",\"Cat\"]\n",
    "print(a[2])"
   ]
  },
  {
   "cell_type": "code",
   "execution_count": 8,
   "id": "f4f9163b",
   "metadata": {},
   "outputs": [
    {
     "name": "stdout",
     "output_type": "stream",
     "text": [
      "['Apple', 'Ball', 'Cat']\n"
     ]
    }
   ],
   "source": [
    "a = [\"Apple\",\"Ball\",\"Cat\",\"Dog\"]\n",
    "print(a[0:3])"
   ]
  },
  {
   "cell_type": "code",
   "execution_count": 9,
   "id": "cf32f42b",
   "metadata": {},
   "outputs": [
    {
     "name": "stdout",
     "output_type": "stream",
     "text": [
      "['Apple', 'Ball', 'Cat', 1, 2, 3, 4, 5, 6, 7, 8, 9, 9]\n"
     ]
    }
   ],
   "source": [
    "a = [\"Apple\",\"Ball\",\"Cat\"]\n",
    "b = [1,2,3,4,5,6,7,8,9,9]\n",
    "c = a+b\n",
    "print(c)"
   ]
  },
  {
   "cell_type": "code",
   "execution_count": 10,
   "id": "9b2ccf93",
   "metadata": {},
   "outputs": [
    {
     "name": "stdout",
     "output_type": "stream",
     "text": [
      "['Apple', 'Ball', 'Cat', 'Apple', 'Ball', 'Cat']\n"
     ]
    }
   ],
   "source": [
    "a = [\"Apple\",\"Ball\",\"Cat\"]\n",
    "print(a*2)"
   ]
  },
  {
   "cell_type": "code",
   "execution_count": 11,
   "id": "f3ebdd92",
   "metadata": {},
   "outputs": [
    {
     "name": "stdout",
     "output_type": "stream",
     "text": [
      "[1, 2, 3, 4, 5, 1, 2, 3, 4, 5]\n"
     ]
    }
   ],
   "source": [
    "a = [1,2,3,4,5]\n",
    "print(a*2)"
   ]
  },
  {
   "cell_type": "code",
   "execution_count": 12,
   "id": "b86e326e",
   "metadata": {},
   "outputs": [
    {
     "data": {
      "text/plain": [
       "[9808556554, 980887687]"
      ]
     },
     "execution_count": 12,
     "metadata": {},
     "output_type": "execute_result"
    }
   ],
   "source": [
    "phone = [9808556554,980887687]\n",
    "phone"
   ]
  },
  {
   "cell_type": "code",
   "execution_count": 1,
   "id": "9796f495",
   "metadata": {},
   "outputs": [
    {
     "name": "stdout",
     "output_type": "stream",
     "text": [
      "Enter n = 5\n",
      "Enter x = 23\n",
      "Enter x = 345\n",
      "Enter x = 234\n",
      "Enter x = 456\n",
      "Enter x = 234\n",
      "[23, 345, 234, 456, 234]\n"
     ]
    }
   ],
   "source": [
    "n= int(input(\"Enter n = \"))\n",
    "l = []\n",
    "for i in range(n):\n",
    "    x = int(input(\"Enter x = \"))\n",
    "    l = l+[x]\n",
    "    \n",
    "print(l)"
   ]
  },
  {
   "cell_type": "code",
   "execution_count": 5,
   "id": "8ce62c5e",
   "metadata": {},
   "outputs": [
    {
     "name": "stdout",
     "output_type": "stream",
     "text": [
      "The max value =  456\n",
      "The min value   23\n",
      "The sum of the all value =  1292\n",
      "[23, 234, 234, 345, 456]\n",
      "[456, 345, 234, 234, 23]\n"
     ]
    }
   ],
   "source": [
    "print(\"The max value = \",max(l))\n",
    "print(\"The min value  \",min(l))\n",
    "print(\"The sum of the all value = \",sum(l))\n",
    "l.sort()\n",
    "print(l)\n",
    "l.reverse()\n",
    "print(l)"
   ]
  },
  {
   "cell_type": "code",
   "execution_count": 6,
   "id": "43e6b9fc",
   "metadata": {},
   "outputs": [
    {
     "name": "stdout",
     "output_type": "stream",
     "text": [
      "['Banana', 'Cat', 'apple', 'zebra']\n"
     ]
    }
   ],
   "source": [
    "a = [\"apple\",\"zebra\",\"Banana\",\"Cat\"]\n",
    "a.sort()\n",
    "print(a)"
   ]
  },
  {
   "cell_type": "code",
   "execution_count": 7,
   "id": "90a7d306",
   "metadata": {},
   "outputs": [
    {
     "name": "stdout",
     "output_type": "stream",
     "text": [
      "apple\n",
      "zebra\n",
      "Banana\n",
      "Cat\n"
     ]
    }
   ],
   "source": [
    "a = [\"apple\",\"zebra\",\"Banana\",\"Cat\"]\n",
    "for i in a:\n",
    "    print(i)"
   ]
  },
  {
   "cell_type": "code",
   "execution_count": 12,
   "id": "cdabc353",
   "metadata": {},
   "outputs": [
    {
     "name": "stdout",
     "output_type": "stream",
     "text": [
      "len of a =  4\n",
      "Yes 1\n"
     ]
    }
   ],
   "source": [
    "a = [\"Ram\",\"Shyam\",\"Hari\",\"Ramesh\"]\n",
    "print(\"len of a = \",len(a))\n",
    "if \"Ram\" in a:\n",
    "    print(\"Yes\",a.count(\"Ram\"))\n",
    "else:\n",
    "    print(\"No\")"
   ]
  },
  {
   "cell_type": "code",
   "execution_count": null,
   "id": "fc90335b",
   "metadata": {},
   "outputs": [],
   "source": [
    "# # write list\n",
    "# append() insert() extend()\n",
    "# #delete\n",
    "# del remove() pop()"
   ]
  },
  {
   "cell_type": "code",
   "execution_count": 13,
   "id": "6e82c73f",
   "metadata": {},
   "outputs": [
    {
     "data": {
      "text/plain": [
       "['Ram', 'Shyam', 'Hari', 'Ramesh', 'Rakesh']"
      ]
     },
     "execution_count": 13,
     "metadata": {},
     "output_type": "execute_result"
    }
   ],
   "source": [
    "#append()\n",
    "a = [\"Ram\",\"Shyam\",\"Hari\",\"Ramesh\"]\n",
    "a.append(\"Rakesh\")\n",
    "a"
   ]
  },
  {
   "cell_type": "code",
   "execution_count": 14,
   "id": "b9a8e18d",
   "metadata": {},
   "outputs": [
    {
     "data": {
      "text/plain": [
       "['Ram', 'Sita', 'Shyam', 'Hari', 'Ramesh']"
      ]
     },
     "execution_count": 14,
     "metadata": {},
     "output_type": "execute_result"
    }
   ],
   "source": [
    "# insert()\n",
    "a = [\"Ram\",\"Shyam\",\"Hari\",\"Ramesh\"]\n",
    "a.insert(1,\"Sita\")\n",
    "a"
   ]
  },
  {
   "cell_type": "code",
   "execution_count": 15,
   "id": "d7dfd175",
   "metadata": {},
   "outputs": [
    {
     "name": "stdout",
     "output_type": "stream",
     "text": [
      "['Apple', 'Ball', 'Cat', 1, 2, 3, 4, 5, 6, 7, 8, 9, 9]\n"
     ]
    }
   ],
   "source": [
    "a = [\"Apple\",\"Ball\",\"Cat\"]\n",
    "b = [1,2,3,4,5,6,7,8,9,9]\n",
    "a.extend(b)\n",
    "print(a)"
   ]
  },
  {
   "cell_type": "code",
   "execution_count": null,
   "id": "3f928a11",
   "metadata": {},
   "outputs": [],
   "source": [
    "n= int(input(\"Enter n = \"))\n",
    "l = []\n",
    "for i in range(n):\n",
    "    x = int(input(\"Enter x = \"))\n",
    "    l.append(x)\n",
    "    \n",
    "print(l)"
   ]
  },
  {
   "cell_type": "code",
   "execution_count": 17,
   "id": "9f137e50",
   "metadata": {},
   "outputs": [
    {
     "data": {
      "text/plain": [
       "['Shyam', 'Hari', 'Ramesh']"
      ]
     },
     "execution_count": 17,
     "metadata": {},
     "output_type": "execute_result"
    }
   ],
   "source": [
    "# del\n",
    "a = [\"Ram\",\"Shyam\",\"Hari\",\"Ramesh\"]\n",
    "del a[0]\n",
    "a"
   ]
  },
  {
   "cell_type": "code",
   "execution_count": 18,
   "id": "d0a584ee",
   "metadata": {},
   "outputs": [
    {
     "name": "stdout",
     "output_type": "stream",
     "text": [
      "['Shyam', 'Hari', 'Ramesh']\n"
     ]
    }
   ],
   "source": [
    "# remove()\n",
    "a = [\"Ram\",\"Shyam\",\"Hari\",\"Ramesh\"]\n",
    "a.remove(\"Ram\")\n",
    "print(a)"
   ]
  },
  {
   "cell_type": "code",
   "execution_count": 19,
   "id": "f6a53e46",
   "metadata": {},
   "outputs": [
    {
     "name": "stdout",
     "output_type": "stream",
     "text": [
      "['Ram', 'Hari', 'Ramesh']\n",
      "Shyam\n"
     ]
    }
   ],
   "source": [
    "# pop()\n",
    "a = [\"Ram\",\"Shyam\",\"Hari\",\"Ramesh\"]\n",
    "b = a.pop(1)\n",
    "print(a)\n",
    "print(b)"
   ]
  },
  {
   "cell_type": "code",
   "execution_count": 20,
   "id": "3db49abd",
   "metadata": {},
   "outputs": [
    {
     "data": {
      "text/plain": [
       "['Hari', 'Ramesh']"
      ]
     },
     "execution_count": 20,
     "metadata": {},
     "output_type": "execute_result"
    }
   ],
   "source": [
    "# del\n",
    "a = [\"Ram\",\"Shyam\",\"Hari\",\"Ramesh\"]\n",
    "del a[0:2]\n",
    "a"
   ]
  },
  {
   "cell_type": "code",
   "execution_count": 23,
   "id": "6f9a631d",
   "metadata": {},
   "outputs": [
    {
     "name": "stdout",
     "output_type": "stream",
     "text": [
      "['Shyam', 'Hari', 'Ramesh']\n"
     ]
    }
   ],
   "source": [
    "# remove()\n",
    "a = [\"Ram\",\"Shyam\",\"Hari\",\"Ramesh\",\"Ram\"]\n",
    "c = a.count(\"Ram\")\n",
    "for i in range(c):\n",
    "    a.remove(\"Ram\")\n",
    "print(a)"
   ]
  },
  {
   "cell_type": "code",
   "execution_count": 25,
   "id": "1aeb9bed",
   "metadata": {},
   "outputs": [
    {
     "data": {
      "text/plain": [
       "1"
      ]
     },
     "execution_count": 25,
     "metadata": {},
     "output_type": "execute_result"
    }
   ],
   "source": [
    "a = [\"Ram\",\"Shyam\",\"Hari\",\"Ramesh\"]\n",
    "a.index(\"Shyam\")"
   ]
  },
  {
   "cell_type": "code",
   "execution_count": 29,
   "id": "0d486ec7",
   "metadata": {},
   "outputs": [
    {
     "name": "stdout",
     "output_type": "stream",
     "text": [
      "Ram\n",
      "Shyam\n",
      "Hari\n",
      "Ramesh\n",
      "Shyam\n"
     ]
    }
   ],
   "source": [
    "a = [\"Ram\",\"Shyam\",\"Hari\",\"Ramesh\",\"Shyam\"]\n",
    "n = len(a)\n",
    "for i in range(n):\n",
    "    print(a[i])"
   ]
  },
  {
   "cell_type": "code",
   "execution_count": 30,
   "id": "04685642",
   "metadata": {},
   "outputs": [
    {
     "name": "stdout",
     "output_type": "stream",
     "text": [
      "P\n",
      "y\n",
      "t\n",
      "h\n",
      "o\n",
      "n\n"
     ]
    }
   ],
   "source": [
    "a = \"Python\"\n",
    "n = len(a)\n",
    "for i in range(n):\n",
    "    print(a[i])"
   ]
  },
  {
   "cell_type": "code",
   "execution_count": 33,
   "id": "2a7f4cb3",
   "metadata": {},
   "outputs": [
    {
     "name": "stdout",
     "output_type": "stream",
     "text": [
      "0 Ram\n",
      "5 Ram\n"
     ]
    }
   ],
   "source": [
    "a = [\"Ram\",\"Shyam\",\"Hari\",\"Ramesh\",\"Shyam\",\"Ram\"]\n",
    "n = len(a)\n",
    "for i in range(n):\n",
    "    if a[i] == \"Ram\":\n",
    "        print(i,a[i])"
   ]
  },
  {
   "cell_type": "code",
   "execution_count": 35,
   "id": "4776e0d0",
   "metadata": {},
   "outputs": [
    {
     "data": {
      "text/plain": [
       "['Rama', 'Shyam', 'Hari', 'Ramesh', 'Shyam', 'Ram']"
      ]
     },
     "execution_count": 35,
     "metadata": {},
     "output_type": "execute_result"
    }
   ],
   "source": [
    "# Update\n",
    "a = [\"Ram\",\"Shyam\",\"Hari\",\"Ramesh\",\"Shyam\",\"Ram\"]\n",
    "a[0] = \"Rama\"\n",
    "a"
   ]
  },
  {
   "cell_type": "code",
   "execution_count": 36,
   "id": "39ce5cea",
   "metadata": {},
   "outputs": [
    {
     "data": {
      "text/plain": [
       "['Rama', 'Shyama', 'Hari', 'Ramesh', 'Shyam', 'Ram']"
      ]
     },
     "execution_count": 36,
     "metadata": {},
     "output_type": "execute_result"
    }
   ],
   "source": [
    "# Update\n",
    "a = [\"Ram\",\"Shyam\",\"Hari\",\"Ramesh\",\"Shyam\",\"Ram\"]\n",
    "a[0:2] = [\"Rama\",\"Shyama\"]\n",
    "a"
   ]
  },
  {
   "cell_type": "code",
   "execution_count": 37,
   "id": "20ef78a4",
   "metadata": {},
   "outputs": [
    {
     "name": "stdout",
     "output_type": "stream",
     "text": [
      "Apple 300 2 600\n",
      "Banana 100 3 300\n"
     ]
    }
   ],
   "source": [
    "a = \"Apple 300 2 600\\nBanana 100 3 300\"\n",
    "print(a)"
   ]
  },
  {
   "cell_type": "code",
   "execution_count": 38,
   "id": "52c9043d",
   "metadata": {},
   "outputs": [
    {
     "data": {
      "text/plain": [
       "['Apple 300 2 600', 'Banana 100 3 300']"
      ]
     },
     "execution_count": 38,
     "metadata": {},
     "output_type": "execute_result"
    }
   ],
   "source": [
    "a = \"Apple 300 2 600\\nBanana 100 3 300\"\n",
    "a.split('\\n')"
   ]
  },
  {
   "cell_type": "code",
   "execution_count": 1,
   "id": "18f680de",
   "metadata": {},
   "outputs": [],
   "source": [
    "# list inside list\n",
    "a = [[1,2,3],\n",
    "     [4,5,6],\n",
    "     [7,8,9]]"
   ]
  },
  {
   "cell_type": "code",
   "execution_count": 2,
   "id": "fa3c8c3f",
   "metadata": {},
   "outputs": [
    {
     "name": "stdout",
     "output_type": "stream",
     "text": [
      "3\n"
     ]
    }
   ],
   "source": [
    "a = [['Ram',89,'Kathmandu'],\n",
    "    ['Shyam',67,'Bhaktapur'],\n",
    "    ['Hari',56,'Lalitpur']]\n",
    "\n",
    "print(len(a))"
   ]
  },
  {
   "cell_type": "code",
   "execution_count": 5,
   "id": "446a16fe",
   "metadata": {},
   "outputs": [
    {
     "name": "stdout",
     "output_type": "stream",
     "text": [
      "['Hari', 56, 'Lalitpur']\n"
     ]
    }
   ],
   "source": [
    "a = [['Ram',89,'Kathmandu'],\n",
    "    ['Shyam',67,'Bhaktapur'],\n",
    "    ['Hari',56,'Lalitpur']]\n",
    "print(a[2])"
   ]
  },
  {
   "cell_type": "code",
   "execution_count": 10,
   "id": "8c422145",
   "metadata": {},
   "outputs": [
    {
     "name": "stdout",
     "output_type": "stream",
     "text": [
      "Shyam\n"
     ]
    }
   ],
   "source": [
    "a = [['Ram',89,'Kathmandu'],\n",
    "    ['Shyam',67,'Bhaktapur'],\n",
    "    ['Hari',56,'Lalitpur']]\n",
    "print(a[1][0])"
   ]
  },
  {
   "cell_type": "code",
   "execution_count": 12,
   "id": "129a85f5",
   "metadata": {},
   "outputs": [
    {
     "data": {
      "text/plain": [
       "[['Ram', 89, 'Kathmandu'],\n",
       " ['Shyam', 67, 'Bhaktapur'],\n",
       " ['Hari', 56, 'Lalitpur'],\n",
       " ['Nabin', 89, 'Bara']]"
      ]
     },
     "execution_count": 12,
     "metadata": {},
     "output_type": "execute_result"
    }
   ],
   "source": [
    "a = [['Ram',89,'Kathmandu'],\n",
    "    ['Shyam',67,'Bhaktapur'],\n",
    "    ['Hari',56,'Lalitpur']]\n",
    "a = a+[['Nabin',89,'Bara']]\n",
    "a"
   ]
  },
  {
   "cell_type": "code",
   "execution_count": 13,
   "id": "e17ba36d",
   "metadata": {},
   "outputs": [
    {
     "name": "stdout",
     "output_type": "stream",
     "text": [
      "Enter n = 2\n",
      "Enter name = Ram\n",
      "Enter age = 89\n",
      "Enter add = Kathmandu\n",
      "Enter name = Shyam\n",
      "Enter age = 45\n",
      "Enter add = Balaju\n",
      "[['Ram', 89, 'Kathmandu'], ['Shyam', 45, 'Balaju']]\n"
     ]
    }
   ],
   "source": [
    "data = []\n",
    "n = int(input(\"Enter n = \"))\n",
    "for i in range(n):\n",
    "    name = input(\"Enter name = \")\n",
    "    age = int(input(\"Enter age = \"))\n",
    "    add = input(\"Enter add = \")\n",
    "    info = [name,age,add]\n",
    "    data.append(info)\n",
    "    \n",
    "print(data)"
   ]
  },
  {
   "cell_type": "code",
   "execution_count": 14,
   "id": "6a887a1d",
   "metadata": {},
   "outputs": [
    {
     "data": {
      "text/plain": [
       "[['Ram', 89, 'Kathmandu'], ['Shyam', 45, 'Balaju'], ['Hari', 23, 'Bara']]"
      ]
     },
     "execution_count": 14,
     "metadata": {},
     "output_type": "execute_result"
    }
   ],
   "source": [
    "x = [['Ram', 89, 'Kathmandu'], ['Shyam', 45, 'Balaju']]\n",
    "x.append(['Hari',23,'Bara'])\n",
    "x"
   ]
  },
  {
   "cell_type": "code",
   "execution_count": 18,
   "id": "c07d82a9",
   "metadata": {},
   "outputs": [
    {
     "data": {
      "text/plain": [
       "[['Rama', 89, 'Kathmandu'], ['Shyam', 45, 'Balaju'], ['Hari', 23, 'Bara']]"
      ]
     },
     "execution_count": 18,
     "metadata": {},
     "output_type": "execute_result"
    }
   ],
   "source": [
    "x[0][0] = 'Rama'\n",
    "x"
   ]
  },
  {
   "cell_type": "code",
   "execution_count": 19,
   "id": "38d46f5d",
   "metadata": {},
   "outputs": [
    {
     "data": {
      "text/plain": [
       "[['Shyam', 45, 'Balaju'], ['Hari', 23, 'Bara']]"
      ]
     },
     "execution_count": 19,
     "metadata": {},
     "output_type": "execute_result"
    }
   ],
   "source": [
    "del x[0]\n",
    "x"
   ]
  },
  {
   "cell_type": "code",
   "execution_count": 22,
   "id": "7a247de2",
   "metadata": {},
   "outputs": [
    {
     "name": "stdout",
     "output_type": "stream",
     "text": [
      "Enter name = Rama\n",
      "['Rama', 89, 'Kathmandu']\n"
     ]
    }
   ],
   "source": [
    "# search\n",
    "x = [['Rama', 89, 'Kathmandu'], ['Shyam', 45, 'Balaju'], ['Hari', 23, 'Bara']]\n",
    "search = input(\"Enter name = \")\n",
    "for i in x:\n",
    "    if search in i:\n",
    "        print(i)\n",
    "    "
   ]
  },
  {
   "cell_type": "code",
   "execution_count": 30,
   "id": "d66ee64d",
   "metadata": {},
   "outputs": [
    {
     "name": "stdout",
     "output_type": "stream",
     "text": [
      "Enter name = Rama\n",
      "[['Shyam', 45, 'Balaju'], ['Hari', 23, 'Bara']]\n"
     ]
    }
   ],
   "source": [
    "# search\n",
    "x = [['Rama', 89, 'Kathmandu'], ['Shyam', 45, 'Balaju'], ['Hari', 23, 'Bara']]\n",
    "search = input(\"Enter name = \")\n",
    "for i in x:\n",
    "    if search in i:\n",
    "        x.remove(i)\n",
    "print(x)"
   ]
  },
  {
   "cell_type": "code",
   "execution_count": 34,
   "id": "62008615",
   "metadata": {},
   "outputs": [
    {
     "name": "stdout",
     "output_type": "stream",
     "text": [
      "Enter name = Ram\n",
      "[['Ram, Rama, Rameshwor', 89, 'Kathmandu'], ['Shyam', 45, 'Balaju'], ['Hari', 23, 'Bara']]\n"
     ]
    }
   ],
   "source": [
    "# index\n",
    "x = [['Ram', 89, 'Kathmandu'], ['Shyam', 45, 'Balaju'], ['Hari', 23, 'Bara']]\n",
    "l = len(x)\n",
    "search = input(\"Enter name = \")\n",
    "for i in range(l):\n",
    "    if search in x[i]:\n",
    "        print(i)\n",
    "print(x)"
   ]
  },
  {
   "cell_type": "code",
   "execution_count": 4,
   "id": "14f55fb1",
   "metadata": {},
   "outputs": [
    {
     "name": "stdout",
     "output_type": "stream",
     "text": [
      "Enter name = Ram\n",
      "['Ram, Rama, Rameshwor', 89, 'Kathmandu']\n",
      "['Ram', 89, 'Kathmandu']\n"
     ]
    }
   ],
   "source": [
    "# search\n",
    "x = [['Ram, Rama, Rameshwor', 89, 'Kathmandu'], ['Shyam', 45, 'Balaju'], ['Hari', 23, 'Bara'],['Ram', 89, 'Kathmandu']]\n",
    "search = input(\"Enter name = \")\n",
    "for i in x:\n",
    "    if search in i[0]:\n",
    "        print(i)"
   ]
  },
  {
   "cell_type": "code",
   "execution_count": 5,
   "id": "ae423bce",
   "metadata": {},
   "outputs": [
    {
     "name": "stdout",
     "output_type": "stream",
     "text": [
      "Apple 300 2 600\n",
      "Banana 100 3 300\n"
     ]
    }
   ],
   "source": [
    "a = \"Apple 300 2 600\\nBanana 100 3 300\"\n",
    "print(a)"
   ]
  },
  {
   "cell_type": "code",
   "execution_count": 12,
   "id": "45ae3b85",
   "metadata": {},
   "outputs": [
    {
     "name": "stdout",
     "output_type": "stream",
     "text": [
      "['Apple 300 2 600', 'Banana 100 3 300']\n",
      "[['Apple', '300', '2', '600'], ['Banana', '100', '3', '300']]\n"
     ]
    }
   ],
   "source": [
    "a = \"Apple 300 2 600\\nBanana 100 3 300\"\n",
    "x = a.split('\\n')\n",
    "print(x)\n",
    "data = []\n",
    "for i in x:\n",
    "    y = i.split()\n",
    "    data.append(y)\n",
    "print(data)"
   ]
  },
  {
   "cell_type": "code",
   "execution_count": null,
   "id": "0f8472c4",
   "metadata": {},
   "outputs": [],
   "source": [
    "# create a matrix using row and col input from user"
   ]
  }
 ],
 "metadata": {
  "kernelspec": {
   "display_name": "Python 3 (ipykernel)",
   "language": "python",
   "name": "python3"
  },
  "language_info": {
   "codemirror_mode": {
    "name": "ipython",
    "version": 3
   },
   "file_extension": ".py",
   "mimetype": "text/x-python",
   "name": "python",
   "nbconvert_exporter": "python",
   "pygments_lexer": "ipython3",
   "version": "3.9.12"
  }
 },
 "nbformat": 4,
 "nbformat_minor": 5
}
