{
 "cells": [
  {
   "cell_type": "code",
   "execution_count": 1,
   "id": "b1bc71ae",
   "metadata": {},
   "outputs": [
    {
     "name": "stdout",
     "output_type": "stream",
     "text": [
      "Requirement already satisfied: mysql-connector in c:\\users\\aayush\\anaconda3\\lib\\site-packages (2.2.9)\n"
     ]
    }
   ],
   "source": [
    "!pip install mysql-connector"
   ]
  },
  {
   "cell_type": "code",
   "execution_count": 3,
   "id": "6cb778fe",
   "metadata": {},
   "outputs": [],
   "source": [
    "import mysql.connector  \t\t#importing database\n",
    "database = mysql.connector.connect(\n",
    "    host=\"localhost\",\n",
    "    user=\"root\",\n",
    "    password=\"\",\n",
    "  database = \"class415pm\"\n",
    ")\n",
    "db = database.cursor()"
   ]
  },
  {
   "cell_type": "code",
   "execution_count": 5,
   "id": "7270a7ae",
   "metadata": {},
   "outputs": [
    {
     "data": {
      "text/plain": [
       "[(1, 'Ram', 89, 87, 85, 67, 78, 412, 88.5, 'A'),\n",
       " (2, 'Shyam', 89, 98, 98, 78, 89, 450, 85.6, 'A'),\n",
       " (3, 'Hari', 89, 98, 67, 81, 67, 412, 85.6, 'A'),\n",
       " (4, 'Sita', 78, 58, 60, 67, 78, 400, 74.0, 'B'),\n",
       " (5, 'Nabin', 89, 98, 67, 78, 89, 421, 82.5, 'A'),\n",
       " (6, 'Kasama', 89, 87, 80, 67, 78, 450, 88.5, 'A')]"
      ]
     },
     "execution_count": 5,
     "metadata": {},
     "output_type": "execute_result"
    }
   ],
   "source": [
    "sql = \"SELECT * FROM student\"\n",
    "db.execute(sql)\n",
    "result =db.fetchall()\n",
    "result"
   ]
  },
  {
   "cell_type": "code",
   "execution_count": 6,
   "id": "c4986fd2",
   "metadata": {},
   "outputs": [
    {
     "data": {
      "text/plain": [
       "[(1, 'Ram', 89, 87, 85, 67, 78, 412, 88.5, 'A'),\n",
       " (2, 'Shyam', 89, 98, 98, 78, 89, 450, 85.6, 'A'),\n",
       " (3, 'Hari', 89, 98, 67, 81, 67, 412, 85.6, 'A'),\n",
       " (5, 'Nabin', 89, 98, 67, 78, 89, 421, 82.5, 'A'),\n",
       " (6, 'Kasama', 89, 87, 80, 67, 78, 450, 88.5, 'A')]"
      ]
     },
     "execution_count": 6,
     "metadata": {},
     "output_type": "execute_result"
    }
   ],
   "source": [
    "sql = \"SELECT * FROM student WHERE grade = 'A'\"\n",
    "db.execute(sql)\n",
    "result =db.fetchall()\n",
    "result"
   ]
  },
  {
   "cell_type": "code",
   "execution_count": 7,
   "id": "cd3ceee7",
   "metadata": {},
   "outputs": [],
   "source": [
    "sql = '''INSERT INTO student ( name, physics, chemistry, math, english, nepali, total, per, grade) \n",
    "VALUES ('Nabina', 69, 87, 90, 91, 67, 470, 86.5, 'A')'''\n",
    "db.execute(sql)\n",
    "database.commit()"
   ]
  },
  {
   "cell_type": "code",
   "execution_count": 9,
   "id": "19d4e052",
   "metadata": {},
   "outputs": [
    {
     "name": "stdout",
     "output_type": "stream",
     "text": [
      "Enter name = Bikash\n",
      "Enter physics = 89\n",
      "Enter chemistry = 78\n",
      "Enter math = 78\n",
      "Enter english = 87\n",
      "Enter nepali = 56\n"
     ]
    }
   ],
   "source": [
    "name = input(\"Enter name = \")\n",
    "physics = int(input(\"Enter physics = \"))\n",
    "chemistry = int(input(\"Enter chemistry = \"))\n",
    "math = int(input(\"Enter math = \"))\n",
    "english = int(input(\"Enter english = \"))\n",
    "nepali = int(input(\"Enter nepali = \"))\n",
    "total = physics+chemistry+math+english+nepali\n",
    "per = total/5\n",
    "if per>=80:\n",
    "    grade = 'A'\n",
    "elif per>=60:\n",
    "    grade = 'B'\n",
    "elif per >= 45:\n",
    "    grade = 'C'\n",
    "else:\n",
    "    grade = 'F'\n",
    "    \n",
    "sql = f'''INSERT INTO student ( name, physics, chemistry, math, english, nepali, total, per, grade) \n",
    "VALUES ('{name}', {physics}, {chemistry}, {math}, {english}, {nepali}, {total}, {per}, '{grade}')'''\n",
    "db.execute(sql)\n",
    "database.commit()"
   ]
  },
  {
   "cell_type": "code",
   "execution_count": 10,
   "id": "efcc89ae",
   "metadata": {},
   "outputs": [],
   "source": [
    "sql = f'''UPDATE student SET name = 'Bikash' WHERE sn = 12'''\n",
    "db.execute(sql)\n",
    "database.commit()"
   ]
  },
  {
   "cell_type": "code",
   "execution_count": null,
   "id": "b5ae6e67",
   "metadata": {},
   "outputs": [],
   "source": [
    "name = input(\"Enter name = \")\n",
    "sn = int(input(\"Enter sn = \"))\n",
    "sql = f'''UPDATE student SET name = '{name }' WHERE sn = {sn}'''\n",
    "db.execute(sql)\n",
    "database.commit()"
   ]
  },
  {
   "cell_type": "code",
   "execution_count": null,
   "id": "2b2723da",
   "metadata": {},
   "outputs": [],
   "source": []
  }
 ],
 "metadata": {
  "kernelspec": {
   "display_name": "Python 3 (ipykernel)",
   "language": "python",
   "name": "python3"
  },
  "language_info": {
   "codemirror_mode": {
    "name": "ipython",
    "version": 3
   },
   "file_extension": ".py",
   "mimetype": "text/x-python",
   "name": "python",
   "nbconvert_exporter": "python",
   "pygments_lexer": "ipython3",
   "version": "3.9.12"
  }
 },
 "nbformat": 4,
 "nbformat_minor": 5
}
