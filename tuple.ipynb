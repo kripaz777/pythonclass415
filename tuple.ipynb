{
 "cells": [
  {
   "cell_type": "code",
   "execution_count": 1,
   "id": "de3f2f6d",
   "metadata": {},
   "outputs": [
    {
     "data": {
      "text/plain": [
       "tuple"
      ]
     },
     "execution_count": 1,
     "metadata": {},
     "output_type": "execute_result"
    }
   ],
   "source": [
    "tuple\n",
    "# -indexing\n",
    "# -ordered\n",
    "# -Multiple and duplicate value\n",
    "# -Imutable"
   ]
  },
  {
   "cell_type": "code",
   "execution_count": 2,
   "id": "2472a15e",
   "metadata": {},
   "outputs": [
    {
     "name": "stdout",
     "output_type": "stream",
     "text": [
      "<class 'tuple'>\n",
      "<class 'tuple'>\n"
     ]
    }
   ],
   "source": [
    "a = tuple()\n",
    "t = (\"Apple\",\"Ball\",\"Cat\",\"Dog\")\n",
    "r  = (1,2,3,4,5,6,7,8,9)\n",
    "print(type(t))\n",
    "print(type(r))"
   ]
  },
  {
   "cell_type": "code",
   "execution_count": 7,
   "id": "50f4da2b",
   "metadata": {},
   "outputs": [
    {
     "name": "stdout",
     "output_type": "stream",
     "text": [
      "<class 'tuple'>\n"
     ]
    }
   ],
   "source": [
    "a = (\"Apple\",)\n",
    "print(type(a))"
   ]
  },
  {
   "cell_type": "code",
   "execution_count": 8,
   "id": "38d30a0b",
   "metadata": {},
   "outputs": [],
   "source": [
    "# no append() insert() extend()\n",
    "# no update\n",
    "# no del remove() pop()"
   ]
  },
  {
   "cell_type": "code",
   "execution_count": 10,
   "id": "e047b5da",
   "metadata": {},
   "outputs": [
    {
     "data": {
      "text/plain": [
       "('Apple', 'Ball')"
      ]
     },
     "execution_count": 10,
     "metadata": {},
     "output_type": "execute_result"
    }
   ],
   "source": [
    "a = ()\n",
    "b = (\"Apple\",)\n",
    "d = (\"Ball\",)\n",
    "c = a+b+d\n",
    "c"
   ]
  },
  {
   "cell_type": "code",
   "execution_count": 12,
   "id": "f221cf48",
   "metadata": {},
   "outputs": [
    {
     "name": "stdout",
     "output_type": "stream",
     "text": [
      "Enter n = 2\n",
      "Enter x = 123\n",
      "Enter x = 45\n",
      "(123, 45)\n"
     ]
    }
   ],
   "source": [
    "n= int(input(\"Enter n = \"))\n",
    "l = ()\n",
    "for i in range(n):\n",
    "    x = int(input(\"Enter x = \"))\n",
    "    l = l+(x,)\n",
    "    \n",
    "print(l)"
   ]
  },
  {
   "cell_type": "code",
   "execution_count": 13,
   "id": "47c108e2",
   "metadata": {},
   "outputs": [
    {
     "data": {
      "text/plain": [
       "(123, 34, 456, 2, 546, 324)"
      ]
     },
     "execution_count": 13,
     "metadata": {},
     "output_type": "execute_result"
    }
   ],
   "source": [
    "a = 123,34,456,2,546,324,\n",
    "a"
   ]
  },
  {
   "cell_type": "code",
   "execution_count": 14,
   "id": "a728eab9",
   "metadata": {},
   "outputs": [],
   "source": [
    "# sum() max() min() index()"
   ]
  },
  {
   "cell_type": "code",
   "execution_count": 16,
   "id": "1d3281dc",
   "metadata": {},
   "outputs": [
    {
     "data": {
      "text/plain": [
       "[123, 34, 456, 2, 546, 324]"
      ]
     },
     "execution_count": 16,
     "metadata": {},
     "output_type": "execute_result"
    }
   ],
   "source": [
    "a = (123, 34, 456, 2, 546, 324)\n",
    "b = list(a)\n",
    "b"
   ]
  },
  {
   "cell_type": "code",
   "execution_count": 20,
   "id": "d2a267c0",
   "metadata": {},
   "outputs": [
    {
     "name": "stdout",
     "output_type": "stream",
     "text": [
      "[34, 456, 2, 546, 324]\n"
     ]
    }
   ],
   "source": [
    "a = (123, 34, 456, 2, 546, 324)\n",
    "b = list(a)\n",
    "del b[0]\n",
    "print(b)"
   ]
  },
  {
   "cell_type": "code",
   "execution_count": 21,
   "id": "be5cfac2",
   "metadata": {},
   "outputs": [
    {
     "data": {
      "text/plain": [
       "(34, 456, 2, 546, 324)"
      ]
     },
     "execution_count": 21,
     "metadata": {},
     "output_type": "execute_result"
    }
   ],
   "source": [
    "a = tuple(b)\n",
    "a"
   ]
  },
  {
   "cell_type": "code",
   "execution_count": null,
   "id": "dcb16cf4",
   "metadata": {},
   "outputs": [],
   "source": []
  }
 ],
 "metadata": {
  "kernelspec": {
   "display_name": "Python 3 (ipykernel)",
   "language": "python",
   "name": "python3"
  },
  "language_info": {
   "codemirror_mode": {
    "name": "ipython",
    "version": 3
   },
   "file_extension": ".py",
   "mimetype": "text/x-python",
   "name": "python",
   "nbconvert_exporter": "python",
   "pygments_lexer": "ipython3",
   "version": "3.9.12"
  }
 },
 "nbformat": 4,
 "nbformat_minor": 5
}
